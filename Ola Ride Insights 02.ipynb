{
 "cells": [
  {
   "cell_type": "code",
   "execution_count": null,
   "id": "14489c0f-4a5a-4ba7-bf4e-2a159213bd60",
   "metadata": {},
   "outputs": [],
   "source": [
    "Of course. Here is a project summary that you can copy and paste into the Markdown cells at the end of your Jupyter Notebook.\n",
    "\n",
    "***\n",
    "\n",
    "## Project Summary & Insights\n",
    "\n",
    "### Key Findings\n",
    "\n",
    "This analysis of Ola's ride-sharing data has revealed several key insights that can help guide business strategy:\n",
    "\n",
    "* **Peak Demand is Concentrated on Weekdays**: The busiest days for bookings are consistently **Monday and Tuesday**, with demand gradually decreasing towards the weekend. This suggests that the primary use case for the service is work-week commuting rather than leisure travel.\n",
    "\n",
    "* **Vehicle Popularity is Evenly Distributed**: There is no single dominant vehicle type. **Prime Sedans, eBikes, Autos, and others** are all booked in very similar numbers. This indicates a diverse customer base with varied needs and highlights the importance of maintaining a balanced fleet.\n",
    "\n",
    "* **A Significant Portion of Bookings Fail**: While a majority of rides are successful, a large number of bookings are lost. **Driver-initiated cancellations** are the largest source of failed bookings, followed by \"Driver Not Found\" errors. This represents a major area for potential revenue recovery and customer satisfaction improvement.\n",
    "\n",
    "* **Top Customers Drive High Value**: A small group of \"power users\" contributes significantly to the platform. Identifying and retaining these top customers through loyalty programs could be a valuable strategy.\n",
    "\n",
    "### Code Explanation\n",
    "\n",
    "#### Main Python Functions (`app.py`)\n",
    "\n",
    "The Streamlit application was built using several key Python functions to ensure performance and interactivity:\n",
    "* `create_db_engine()`: This function establishes the connection to the MySQL database. It is cached so that the connection is only made once per session, improving performance.\n",
    "* `load_data()`: This function runs a `SELECT *` query to fetch the entire dataset from the MySQL table. The results are cached so that the large dataset is only loaded into memory once.\n",
    "* **Sidebar and Main Page Logic**: The app uses `st.sidebar` to create interactive filters for date range, vehicle type, and booking status. The main page uses `st.session_state` to enable a dynamic, button-based navigation system, allowing users to switch between different analysis views without a linear page flow. All charts and KPIs are built with the **Plotly** library and are regenerated whenever a filter is changed to reflect the new data subset.\n",
    "\n",
    "#### SQL Queries\n",
    "\n",
    "A series of 10 SQL queries were executed in MySQL Workbench to extract specific, targeted insights from the clean database. These queries were used to:\n",
    "* **Analyze Booking Status**: Calculate the count and total value of successful bookings, as well as the number of cancellations by customers and drivers.\n",
    "* **Analyze Customer and Driver Behavior**: Identify the top 5 customers by ride volume, retrieve rides based on payment method (UPI), and find the min/max ratings for specific vehicle types.\n",
    "* **Analyze Vehicle Performance**: Calculate the average ride distance and customer rating for each vehicle category to compare their performance.\n"
   ]
  },
  {
   "cell_type": "code",
   "execution_count": null,
   "id": "ee2e4d91-5496-4130-9a71-517c48936752",
   "metadata": {},
   "outputs": [],
   "source": []
  },
  {
   "cell_type": "code",
   "execution_count": null,
   "id": "f43814f5-69e4-434d-a738-78a1aab20ab1",
   "metadata": {},
   "outputs": [],
   "source": []
  },
  {
   "cell_type": "code",
   "execution_count": null,
   "id": "2a83f6d2-ef5d-4517-b5d1-2b51f4a0e7f6",
   "metadata": {},
   "outputs": [],
   "source": []
  },
  {
   "cell_type": "code",
   "execution_count": null,
   "id": "962f16dc-2a34-4d2a-8d73-9ed856b242ad",
   "metadata": {},
   "outputs": [],
   "source": []
  },
  {
   "cell_type": "code",
   "execution_count": null,
   "id": "6a3acf71-6839-4c88-9441-4116ceb0054e",
   "metadata": {},
   "outputs": [],
   "source": []
  },
  {
   "cell_type": "code",
   "execution_count": null,
   "id": "b607a037-caca-42bb-8cc8-2a5151d473e0",
   "metadata": {},
   "outputs": [],
   "source": []
  },
  {
   "cell_type": "code",
   "execution_count": null,
   "id": "4808807e-57a5-40c5-b629-b80147d8e83f",
   "metadata": {},
   "outputs": [],
   "source": []
  },
  {
   "cell_type": "code",
   "execution_count": null,
   "id": "68744abe-3a25-47df-9183-8ce5aae344db",
   "metadata": {},
   "outputs": [],
   "source": []
  },
  {
   "cell_type": "code",
   "execution_count": null,
   "id": "597f27aa-eaff-4714-8656-ef58541c58f0",
   "metadata": {},
   "outputs": [],
   "source": []
  },
  {
   "cell_type": "code",
   "execution_count": null,
   "id": "6180f53c-0a48-4eb8-a410-2860ae4edbd9",
   "metadata": {},
   "outputs": [],
   "source": []
  },
  {
   "cell_type": "code",
   "execution_count": null,
   "id": "85690e49-b553-4e72-963b-eadd7c170faa",
   "metadata": {},
   "outputs": [],
   "source": []
  },
  {
   "cell_type": "code",
   "execution_count": null,
   "id": "963dc73a-9863-486b-a32b-212fec87d3f1",
   "metadata": {},
   "outputs": [],
   "source": []
  },
  {
   "cell_type": "code",
   "execution_count": null,
   "id": "548c133d-8e01-4f9d-894b-a780448e3556",
   "metadata": {},
   "outputs": [],
   "source": []
  },
  {
   "cell_type": "code",
   "execution_count": null,
   "id": "21fd6ccb-bfc8-4e0a-b5db-a7b15de09376",
   "metadata": {},
   "outputs": [],
   "source": []
  },
  {
   "cell_type": "code",
   "execution_count": null,
   "id": "0337fa9f-71f9-40ce-902c-cb6eb1b9df36",
   "metadata": {},
   "outputs": [],
   "source": []
  },
  {
   "cell_type": "code",
   "execution_count": null,
   "id": "b11479fd-b555-4dba-b765-34edba733534",
   "metadata": {},
   "outputs": [],
   "source": []
  },
  {
   "cell_type": "code",
   "execution_count": null,
   "id": "1d25fc2c-0ce9-42f3-a008-d773791c657a",
   "metadata": {},
   "outputs": [],
   "source": []
  },
  {
   "cell_type": "code",
   "execution_count": null,
   "id": "b77d18db-c09c-4897-854c-f2f52a8f421c",
   "metadata": {},
   "outputs": [],
   "source": []
  },
  {
   "cell_type": "code",
   "execution_count": null,
   "id": "cb861e2c-7229-4a70-a073-de6f10013d26",
   "metadata": {},
   "outputs": [],
   "source": []
  },
  {
   "cell_type": "code",
   "execution_count": null,
   "id": "a6abfe11-2130-4e98-81bc-f0c8403a3976",
   "metadata": {},
   "outputs": [],
   "source": []
  },
  {
   "cell_type": "code",
   "execution_count": null,
   "id": "0c9308d8-212b-4d25-b6ee-6c8359595000",
   "metadata": {},
   "outputs": [],
   "source": []
  },
  {
   "cell_type": "code",
   "execution_count": null,
   "id": "3a618fd4-2750-4e00-af1b-77715802257e",
   "metadata": {},
   "outputs": [],
   "source": []
  },
  {
   "cell_type": "code",
   "execution_count": null,
   "id": "169854cd-2f67-4e5a-b5c1-92146343dc7a",
   "metadata": {},
   "outputs": [],
   "source": []
  },
  {
   "cell_type": "code",
   "execution_count": null,
   "id": "44a5b5e6-a0ae-4a8a-a94a-e0acf9df31be",
   "metadata": {},
   "outputs": [],
   "source": []
  }
 ],
 "metadata": {
  "kernelspec": {
   "display_name": "Python 3 (ipykernel)",
   "language": "python",
   "name": "python3"
  },
  "language_info": {
   "codemirror_mode": {
    "name": "ipython",
    "version": 3
   },
   "file_extension": ".py",
   "mimetype": "text/x-python",
   "name": "python",
   "nbconvert_exporter": "python",
   "pygments_lexer": "ipython3",
   "version": "3.12.7"
  }
 },
 "nbformat": 4,
 "nbformat_minor": 5
}
